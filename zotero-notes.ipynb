{
 "cells": [
  {
   "cell_type": "markdown",
   "source": [
    "# Extract notes from Zotero references\n",
    "\n",
    "Python 3+, to install:\n",
    "\n",
    "```\n",
    "pip install git+https://github.com/sdaza/zotnote.git\n",
    "```"
   ],
   "metadata": {}
  },
  {
   "cell_type": "code",
   "execution_count": 1,
   "source": [
    "import pandas as pd\n",
    "import config\n",
    "import zotnote as zn"
   ],
   "outputs": [],
   "metadata": {
    "tags": []
   }
  },
  {
   "cell_type": "code",
   "execution_count": 8,
   "source": [
    "obesity_big_paper = \"NFWFUHKR\"\n",
    "epi_genetics = \"M8N2VMAP\"\n",
    "testing = \"VT3GKXCP\""
   ],
   "outputs": [],
   "metadata": {}
  },
  {
   "cell_type": "code",
   "execution_count": 9,
   "source": [
    "zn.exportNotes(collection=testing, file=\"testing.csv\",\n",
    "    library_id=config.library_id, api_key=config.api_key) "
   ],
   "outputs": [
    {
     "output_type": "stream",
     "name": "stdout",
     "text": [
      "Notes saved in  testing.csv\n"
     ]
    }
   ],
   "metadata": {}
  },
  {
   "cell_type": "code",
   "execution_count": 10,
   "source": [
    "pd.read_csv(\"testing.csv\")"
   ],
   "outputs": [
    {
     "output_type": "execute_result",
     "data": {
      "text/plain": [
       "         id          citation  tags  \\\n",
       "0  5NN8AW8B  Chen et al. 2018   NaN   \n",
       "\n",
       "                                               title   reviewer  \\\n",
       "0  Obesity trend in the United States and economi...  sebastian   \n",
       "\n",
       "  research_question  \n",
       "0           testing  "
      ],
      "text/html": [
       "<div>\n",
       "<style scoped>\n",
       "    .dataframe tbody tr th:only-of-type {\n",
       "        vertical-align: middle;\n",
       "    }\n",
       "\n",
       "    .dataframe tbody tr th {\n",
       "        vertical-align: top;\n",
       "    }\n",
       "\n",
       "    .dataframe thead th {\n",
       "        text-align: right;\n",
       "    }\n",
       "</style>\n",
       "<table border=\"1\" class=\"dataframe\">\n",
       "  <thead>\n",
       "    <tr style=\"text-align: right;\">\n",
       "      <th></th>\n",
       "      <th>id</th>\n",
       "      <th>citation</th>\n",
       "      <th>tags</th>\n",
       "      <th>title</th>\n",
       "      <th>reviewer</th>\n",
       "      <th>research_question</th>\n",
       "    </tr>\n",
       "  </thead>\n",
       "  <tbody>\n",
       "    <tr>\n",
       "      <th>0</th>\n",
       "      <td>5NN8AW8B</td>\n",
       "      <td>Chen et al. 2018</td>\n",
       "      <td>NaN</td>\n",
       "      <td>Obesity trend in the United States and economi...</td>\n",
       "      <td>sebastian</td>\n",
       "      <td>testing</td>\n",
       "    </tr>\n",
       "  </tbody>\n",
       "</table>\n",
       "</div>"
      ]
     },
     "metadata": {},
     "execution_count": 10
    }
   ],
   "metadata": {}
  },
  {
   "cell_type": "code",
   "execution_count": 11,
   "source": [
    "# zn.exportNotes(collection=obesity_big_paper, file=\"testing.csv\",\n",
    "#     library_id=config.library_id, api_key=config.api_key)\n",
    "# pd.read_csv(\"testing.csv\")"
   ],
   "outputs": [],
   "metadata": {}
  },
  {
   "cell_type": "code",
   "execution_count": 5,
   "source": [
    "# testing\n",
    "from pyzotero import zotero\n",
    "zot = zotero.Zotero(config.library_id, config.library_type, config.api_key)\n",
    "items = zot.collection_items(\"M8N2VMAP\")"
   ],
   "outputs": [],
   "metadata": {}
  },
  {
   "cell_type": "code",
   "execution_count": 6,
   "source": [
    "items = zot.item(\"U4MNK7QT\")"
   ],
   "outputs": [],
   "metadata": {}
  },
  {
   "cell_type": "code",
   "execution_count": 4,
   "source": [
    "# items"
   ],
   "outputs": [],
   "metadata": {}
  },
  {
   "cell_type": "code",
   "execution_count": null,
   "source": [],
   "outputs": [],
   "metadata": {}
  }
 ],
 "metadata": {
  "interpreter": {
   "hash": "4cd7ab41f5fca4b9b44701077e38c5ffd31fe66a6cab21e0214b68d958d0e462"
  },
  "kernelspec": {
   "display_name": "Python 3.9.2 64-bit",
   "name": "python3"
  },
  "language_info": {
   "codemirror_mode": {
    "name": "ipython",
    "version": 3
   },
   "file_extension": ".py",
   "mimetype": "text/x-python",
   "name": "python",
   "nbconvert_exporter": "python",
   "pygments_lexer": "ipython3",
   "version": "3.9.2"
  }
 },
 "nbformat": 4,
 "nbformat_minor": 4
}