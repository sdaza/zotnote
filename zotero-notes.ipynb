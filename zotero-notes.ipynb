{
 "cells": [
  {
   "cell_type": "markdown",
   "metadata": {},
   "source": [
    "# Extract notes from Zotero references"
   ]
  },
  {
   "cell_type": "code",
   "execution_count": 2,
   "metadata": {
    "tags": []
   },
   "outputs": [],
   "source": [
    "import pandas as pd\n",
    "import config\n",
    "import zotnote as zn"
   ]
  },
  {
   "cell_type": "code",
   "execution_count": 7,
   "metadata": {},
   "outputs": [],
   "source": [
    "zn.exportNotes(collection = \"M8N2VMAP\", file=\"testing.csv\",\n",
    "    library_id = config.library_id, api_key = config.api_key)"
   ]
  },
  {
   "cell_type": "code",
   "execution_count": 8,
   "metadata": {},
   "outputs": [
    {
     "data": {
      "text/html": [
       "<div>\n",
       "<style scoped>\n",
       "    .dataframe tbody tr th:only-of-type {\n",
       "        vertical-align: middle;\n",
       "    }\n",
       "\n",
       "    .dataframe tbody tr th {\n",
       "        vertical-align: top;\n",
       "    }\n",
       "\n",
       "    .dataframe thead th {\n",
       "        text-align: right;\n",
       "    }\n",
       "</style>\n",
       "<table border=\"1\" class=\"dataframe\">\n",
       "  <thead>\n",
       "    <tr style=\"text-align: right;\">\n",
       "      <th></th>\n",
       "      <th>id</th>\n",
       "      <th>citation</th>\n",
       "      <th>tags</th>\n",
       "      <th>title</th>\n",
       "      <th>research_question</th>\n",
       "      <th>this_is_a_test</th>\n",
       "      <th>data</th>\n",
       "      <th>methods</th>\n",
       "      <th>conclusions</th>\n",
       "      <th>the_good</th>\n",
       "      <th>limitations</th>\n",
       "    </tr>\n",
       "  </thead>\n",
       "  <tbody>\n",
       "    <tr>\n",
       "      <th>0</th>\n",
       "      <td>U4MNK7QT</td>\n",
       "      <td>Walter et al. 2016</td>\n",
       "      <td>BMI, Polygenic scores</td>\n",
       "      <td>Association of a Genetic Risk Score With Body ...</td>\n",
       "      <td>Estimates interaction effects between PGS of o...</td>\n",
       "      <td>What test?</td>\n",
       "      <td>HRS</td>\n",
       "      <td>Uses a HLM whereby they estimate effects of ag...</td>\n",
       "      <td>NaN</td>\n",
       "      <td>NaN</td>\n",
       "      <td>Pays little attention to selection due to surv...</td>\n",
       "    </tr>\n",
       "    <tr>\n",
       "      <th>1</th>\n",
       "      <td>RGDC9R9R</td>\n",
       "      <td>Abadi et al. 2017</td>\n",
       "      <td>Must read</td>\n",
       "      <td>Penetrance of Polygenic Obesity Susceptibility...</td>\n",
       "      <td>Are the effects of obesity-susceptibility loci...</td>\n",
       "      <td>What test?</td>\n",
       "      <td>37 BMI-associated SNPs in 75,230 adults of Eur...</td>\n",
       "      <td>Quantile regression and meta-regression across...</td>\n",
       "      <td>The effects of nine SNPs increased significant...</td>\n",
       "      <td>NaN</td>\n",
       "      <td>NaN</td>\n",
       "    </tr>\n",
       "  </tbody>\n",
       "</table>\n",
       "</div>"
      ],
      "text/plain": [
       "         id            citation                   tags  \\\n",
       "0  U4MNK7QT  Walter et al. 2016  BMI, Polygenic scores   \n",
       "1  RGDC9R9R   Abadi et al. 2017              Must read   \n",
       "\n",
       "                                               title  \\\n",
       "0  Association of a Genetic Risk Score With Body ...   \n",
       "1  Penetrance of Polygenic Obesity Susceptibility...   \n",
       "\n",
       "                                   research_question this_is_a_test  \\\n",
       "0  Estimates interaction effects between PGS of o...     What test?   \n",
       "1  Are the effects of obesity-susceptibility loci...     What test?   \n",
       "\n",
       "                                                data  \\\n",
       "0                                                HRS   \n",
       "1  37 BMI-associated SNPs in 75,230 adults of Eur...   \n",
       "\n",
       "                                             methods  \\\n",
       "0  Uses a HLM whereby they estimate effects of ag...   \n",
       "1  Quantile regression and meta-regression across...   \n",
       "\n",
       "                                         conclusions  the_good  \\\n",
       "0                                                NaN       NaN   \n",
       "1  The effects of nine SNPs increased significant...       NaN   \n",
       "\n",
       "                                         limitations  \n",
       "0  Pays little attention to selection due to surv...  \n",
       "1                                                NaN  "
      ]
     },
     "execution_count": 8,
     "metadata": {},
     "output_type": "execute_result"
    }
   ],
   "source": [
    "pd.read_csv(\"testing.csv\")"
   ]
  },
  {
   "cell_type": "code",
   "execution_count": 30,
   "metadata": {},
   "outputs": [],
   "source": [
    "from requests import api\n",
    "from pyzotero import zotero\n",
    "import pandas\n",
    "import re\n",
    "\n",
    "\n",
    "def extractNotes(notes, separator = \"#\"):\n",
    "    '''Extract notes using separator'''\n",
    "    rows_list = []\n",
    "    for k,txt in notes.items():\n",
    "        tx = txt.split(separator)\n",
    "        tx = list(filter(lambda x: x != \"\", tx))\n",
    "        dtx = {\"parent\": k}\n",
    "        for t in tx:\n",
    "            v = t.strip().split(\"\\n\", 1)\n",
    "            if (len(v) > 1):\n",
    "                dtx[v[0].lower().replace(\" \", \"_\")] = v[1]\n",
    "            else: \n",
    "                dtx[v[0].lower().replace(\" \", \"_\")] = \"\"\n",
    "        rows_list.append(dtx)\n",
    "    return pd.DataFrame(rows_list)      \n",
    "\n",
    "\n",
    "def exportNotes(library_type=\"group\", collection=None, library_id=None, \n",
    "    api_key=None, file=\"zotero-notes.csv\", separator = \"#\"):\n",
    "    '''Export notes to a CSV file'''\n",
    "    zot = zotero.Zotero(library_id, library_type, api_key)\n",
    "    notes = pandas.DataFrame(columns=[\"notes\"])\n",
    "    items = zot.collection_items(collection)\n",
    "    for item in items:\n",
    "        try:\n",
    "            notes = notes.append(\n",
    "                {\"notes\": item[\"data\"][\"note\"], \"parent\": item[\"data\"][\"parentItem\"]},\n",
    "                ignore_index=True,\n",
    "            )\n",
    "        except:\n",
    "            notes = notes.append({\"notes\": \"\"}, ignore_index=True)\n",
    "        notes = notes.loc[[len(x) > 0 for x in notes[\"notes\"]]]\n",
    "\n",
    "    citations = pandas.DataFrame(columns=[\"citation\"])\n",
    "    for parent in notes[\"parent\"]:\n",
    "        citations = citations.append(\n",
    "            {\n",
    "                \"citation\": zot.item(\n",
    "                    parent,\n",
    "                    content=\"citation\",\n",
    "                    format=\"keys\",\n",
    "                    style=\"taylor-and-francis-council-of-science-editors-author-date\",\n",
    "                ),\n",
    "            \"parent\": parent,\n",
    "            \"tags\": zot.item_tags(parent), \n",
    "            \"title\": zot.item(parent)[\"data\"][\"title\"] \n",
    "            },\n",
    "            ignore_index=True,\n",
    "        )\n",
    "    \n",
    "    res = citations.set_index(\"parent\").join(notes.set_index(\"parent\"))\n",
    "    res[\"notes\"] = [re.sub(\"<.*?>\", \"\", str(x)) for x in res[\"notes\"]]\n",
    "    notes = extractNotes(res[\"notes\"], separator=separator)\n",
    "\n",
    "    ref = citations.set_index(\"parent\")\n",
    "    ref[\"citation\"] = [re.sub(\"\\[|\\]|\\(|\\)|'\", \"\", str(x)) for x in ref[\"citation\"]]\n",
    "    ref[\"citation\"] = [re.sub(\"<.*?>\", \"\", str(x)) for x in ref[\"citation\"]]\n",
    "    ref[\"title\"] = [re.sub(\"\\['|'\\]\", \"\", str(x)) for x in ref[\"title\"]]\n",
    "    ref[\"tags\"] = [re.sub(\"\\[|\\]|']\", \"\", str(x)) for x in ref[\"tags\"]]\n",
    "    ref[\"tags\"] = [re.sub(\"'\", \"\", str(x)) for x in ref[\"tags\"]]\n",
    "    ref = pandas.DataFrame(ref)\n",
    "    \n",
    "    return ref.merge(notes, left_on='parent', right_on='parent') \\\n",
    "        .rename(columns = {\"parent\" : \"id\"}, inplace=False) \\\n",
    "        .to_csv(file, index=False)"
   ]
  },
  {
   "cell_type": "code",
   "execution_count": 31,
   "metadata": {},
   "outputs": [],
   "source": [
    "exportNotes(collection = \"M8N2VMAP\", file=\"testing.csv\",\n",
    "    library_id = config.library_id, api_key = config.api_key)"
   ]
  },
  {
   "cell_type": "code",
   "execution_count": null,
   "metadata": {},
   "outputs": [],
   "source": []
  }
 ],
 "metadata": {
  "interpreter": {
   "hash": "aee8b7b246df8f9039afb4144a1f6fd8d2ca17a180786b69acc140d282b71a49"
  },
  "kernelspec": {
   "display_name": "Python 3.9.5 64-bit ('local')",
   "name": "python3"
  },
  "language_info": {
   "codemirror_mode": {
    "name": "ipython",
    "version": 3
   },
   "file_extension": ".py",
   "mimetype": "text/x-python",
   "name": "python",
   "nbconvert_exporter": "python",
   "pygments_lexer": "ipython3",
   "version": "3.9.5"
  }
 },
 "nbformat": 4,
 "nbformat_minor": 4
}